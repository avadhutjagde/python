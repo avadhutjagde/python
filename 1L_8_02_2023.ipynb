{
  "nbformat": 4,
  "nbformat_minor": 0,
  "metadata": {
    "colab": {
      "provenance": [],
      "authorship_tag": "ABX9TyMtGoh6eu61EEEpxfyQRToN",
      "include_colab_link": true
    },
    "kernelspec": {
      "name": "python3",
      "display_name": "Python 3"
    },
    "language_info": {
      "name": "python"
    }
  },
  "cells": [
    {
      "cell_type": "markdown",
      "metadata": {
        "id": "view-in-github",
        "colab_type": "text"
      },
      "source": [
        "<a href=\"https://colab.research.google.com/github/avadhutjagde/python/blob/main/1L_8_02_2023.ipynb\" target=\"_parent\"><img src=\"https://colab.research.google.com/assets/colab-badge.svg\" alt=\"Open In Colab\"/></a>"
      ]
    },
    {
      "cell_type": "code",
      "execution_count": null,
      "metadata": {
        "id": "u7YpJ0s3TSpb"
      },
      "outputs": [],
      "source": [
        "name=\"amit\" #string\n",
        "age=23      # int\n",
        "salary=34456.77 # float\n",
        "\n",
        "print(\"Name is\",name)\n",
        "print(\"age is\",      age) \n",
        "print(\"salary is\",         salary)   # space is omitted.\n",
        "print(\"salary is\"\"   \",salary) # this way U can add space. \n",
        "print(\"salary is\",\"  \"+ name )   #  \"concatenat\" only done with \"string\" not with int or float so only in  string this way u can add space.  \n",
        "# print(\"salary is\",\"  \" + salary) # gives error Bcoz  salary is int variable."
      ]
    },
    {
      "cell_type": "code",
      "source": [
        "name=input(\"Enter your Name:\")\n",
        "age=int(input(\"enter your age:\"))\n",
        "sal=float(input(\"enter your sal:\"))\n",
        "\n",
        "print(\"Name is\",name)\n",
        "print(\"age is\",age) \n",
        "print(\"salary is\",salary)   # space is omitted."
      ],
      "metadata": {
        "id": "TAtesopgWd8l"
      },
      "execution_count": null,
      "outputs": []
    },
    {
      "cell_type": "code",
      "source": [
        "# Arithmetic operator\n",
        "a=5\n",
        "b=2\n",
        "print(\"a=\",a)\n",
        "print(\"b=\",b)\n",
        "\n",
        "c=a+b\n",
        "print(\"a+b\",c)\n",
        "\n",
        "c=a-b\n",
        "print(\"a-b\",c)\n",
        "\n",
        "c=a*b\n",
        "print(\"a*b\",c)\n",
        "\n",
        "c=a/b\n",
        "print(\"a/b\",c)\n",
        "\n",
        "c=a%b\n",
        "print(\"a%b\",c)\n",
        "\n",
        "c=a**b\n",
        "print(\"a**b\",c)\n",
        "\n",
        "c=a//b\n",
        "print(\"a//b\",c)\n"
      ],
      "metadata": {
        "id": "jKwS7p2EXKip"
      },
      "execution_count": null,
      "outputs": []
    },
    {
      "cell_type": "code",
      "source": [
        "math=int(input(\"Enter marks into math:\"))\n",
        "sci=int(input(\"Enter marks into sci:\"))  # code is interpreted line by line this line error is not-catch  by the complier when compiler complie 2nd line that time he catch error. \n",
        "eng=int(input(\"Enter marks into math:\"))\n",
        "hin=int(input(\"Enter marks into math:\"))\n",
        "history=int(input(\"Enter marks into math:\"))\n",
        "marathi=int(input(\"Enter marks into math:\"))\n",
        "\n",
        "\n",
        "tot =  math+sci+eng+ hin+ history+ marathi\n",
        "per=tot*100/500\n",
        "\n",
        "print (\"total marks :\",tot)\n",
        "print (\"% is :\",per)"
      ],
      "metadata": {
        "id": "oUIey_HdYPDj"
      },
      "execution_count": null,
      "outputs": []
    },
    {
      "cell_type": "code",
      "source": [
        "a=int(input(\"Enter any no. :\"))\n",
        "b=int(input(\"enter any no.:\"))\n",
        "\n",
        "a=a+b\n",
        "b=a-b\n",
        "a=a-b\n",
        "print(\"a=\",a)\n",
        "print(\"b=\",b)"
      ],
      "metadata": {
        "id": "PKptHPzraAv2"
      },
      "execution_count": null,
      "outputs": []
    },
    {
      "cell_type": "code",
      "source": [
        "# class-work :\n",
        "BS=int(input(\"Enter your base salary:\"))\n",
        "OT=int(input(\"Enter your over time salary:\"))\n",
        "HS=int(input(\"Enter hike in salary : \" ))\n",
        "\n",
        "Tax=int(input(\"enter amount for tax deduction:\"))\n",
        "RF=int(input(\"enter your retirement funds amount :\" ))\n",
        "\n",
        "Total_Salary=BS+OT+HS\n",
        "Deduction_amt= Tax + RF\n",
        "\n",
        "Inhand_salary= Total_Salary - Deduction_amt\n",
        "print(\"your in hand salary is \",Inhand_salary)"
      ],
      "metadata": {
        "id": "l3UN7SkNaEpS"
      },
      "execution_count": null,
      "outputs": []
    },
    {
      "cell_type": "code",
      "source": [
        "#class Work\n",
        "name=input(\"enter your Full-Name :\")\n",
        "age=int(input(\"enter your age :\"))\n",
        "Add=input(\"enter your Current Address :\")\n",
        "scl_name=input(\"enter your scl_Name :\")\n",
        "clg_name=input(\"enter your clg_Name :\")\n",
        "CA_Quali=input(\"enter your Current Qualification :\")\n",
        "ssc=input(\"enter your SSC % :\")\n",
        "hsc=input(\"enter your HSC % :\")\n",
        "\n",
        "print(\"your Full-Name is :\",name)\n",
        "print(\"your age is :\",age)\n",
        "print(\"your address is :\",Add)\n",
        "print(\"your school_Name :\",scl_name)\n",
        "print(\"your college_Name is :\",clg_name)\n",
        "print(\"your current qualification is :\",CA_Quali)\n",
        "print(\"your SSC %  is  :\",ssc)\n",
        "print(\"your HSC % :\",hsc)"
      ],
      "metadata": {
        "id": "LU0twLWZbQlE"
      },
      "execution_count": null,
      "outputs": []
    },
    {
      "cell_type": "code",
      "source": [],
      "metadata": {
        "id": "krcj0tYPR9N6"
      },
      "execution_count": null,
      "outputs": []
    }
  ]
}